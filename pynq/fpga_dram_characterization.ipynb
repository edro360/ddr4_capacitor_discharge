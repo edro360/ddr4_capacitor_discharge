{
 "cells": [
  {
   "cell_type": "code",
   "execution_count": 6,
   "id": "0fb8d9df",
   "metadata": {},
   "outputs": [],
   "source": [
    "import pynq\n",
    "import numpy as np\n",
    "from time import sleep\n",
    "\n",
    "u2 = pynq.Device.devices[1]\n",
    "ol = pynq.Overlay(\"krnl_dummy.xclbin\", device=u2)\n",
    "krnl = ol.krnl_dummy_1\n",
    "krnl_map = krnl.register_map"
   ]
  },
  {
   "cell_type": "code",
   "execution_count": 3,
   "id": "e71061bf",
   "metadata": {},
   "outputs": [],
   "source": [
    "ol?"
   ]
  },
  {
   "cell_type": "code",
   "execution_count": 4,
   "id": "c37b2c96",
   "metadata": {},
   "outputs": [
    {
     "name": "stdout",
     "output_type": "stream",
     "text": [
      "RegisterMap {\n",
      "  CTRL = Register(AP_START=0, AP_DONE=0, AP_IDLE=1, AP_READY=0, AUTO_RESTART=0, AP_CONTINUE=0),\n",
      "  en = Register(value=0),\n",
      "  dummy_a = Register(value=0),\n",
      "  dummy_b = Register(value=0)\n",
      "}\n"
     ]
    }
   ],
   "source": [
    "print(krnl_map)"
   ]
  },
  {
   "cell_type": "code",
   "execution_count": 5,
   "id": "a3af201d",
   "metadata": {},
   "outputs": [
    {
     "name": "stdout",
     "output_type": "stream",
     "text": [
      "(en: 'unsigned int', dummy_a: 'void*', dummy_b: 'void*')\n"
     ]
    }
   ],
   "source": [
    "print(krnl.signature)"
   ]
  },
  {
   "cell_type": "code",
   "execution_count": 7,
   "id": "a5114d89",
   "metadata": {},
   "outputs": [],
   "source": [
    "def loop_till_fail():\n",
    "    count = 0\n",
    "    time = 0.01\n",
    "    flag = True\n",
    "    while flag:\n",
    "        out = pynq.allocate(shape=(2048,2048), dtype=np.uint32, target=ol.bank0)\n",
    "        gold = np.random.randint(low=0, high=100, size=(2048,2048), dtype=np.uint32)\n",
    "        out[:] = gold\n",
    "        out.sync_to_device()\n",
    "        sleep(time)\n",
    "        out.sync_from_device()\n",
    "\n",
    "        if (np.array_equal(out, gold)):\n",
    "            del(out)\n",
    "            del(gold)\n",
    "            time += 0.0001\n",
    "            count += 1\n",
    "        else:\n",
    "            del(out)\n",
    "            del(gold)\n",
    "            flag = False\n",
    "            #print(f\"Corrupted on loop {count} in {time} seconds.\")\n",
    "    return time, count"
   ]
  },
  {
   "cell_type": "code",
   "execution_count": 8,
   "id": "356ac3f6",
   "metadata": {},
   "outputs": [
    {
     "name": "stdout",
     "output_type": "stream",
     "text": [
      "Avg of 114 loops in 0.02087499999999994\n"
     ]
    }
   ],
   "source": [
    "results = []\n",
    "loops = []\n",
    "for _ in range(20):\n",
    "    time, count = loop_till_fail()\n",
    "    results.append(time)\n",
    "    loops.append(count)\n",
    "\n",
    "avg_time = sum(results) / len(results)\n",
    "avg_loops = sum(loops) / len(loops)\n",
    "print(f\"Avg of {count} loops in {avg_time}\")"
   ]
  }
 ],
 "metadata": {
  "kernelspec": {
   "display_name": "Python 3 (ipykernel)",
   "language": "python",
   "name": "python3"
  },
  "language_info": {
   "codemirror_mode": {
    "name": "ipython",
    "version": 3
   },
   "file_extension": ".py",
   "mimetype": "text/x-python",
   "name": "python",
   "nbconvert_exporter": "python",
   "pygments_lexer": "ipython3",
   "version": "3.10.12"
  }
 },
 "nbformat": 4,
 "nbformat_minor": 5
}
