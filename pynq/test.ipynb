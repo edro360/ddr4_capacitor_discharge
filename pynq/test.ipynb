{
 "cells": [
  {
   "cell_type": "code",
   "execution_count": 1,
   "id": "d817c672",
   "metadata": {},
   "outputs": [
    {
     "data": {
      "application/javascript": [
       "\n",
       "try {\n",
       "require(['notebook/js/codecell'], function(codecell) {\n",
       "  codecell.CodeCell.options_default.highlight_modes[\n",
       "      'magic_text/x-csrc'] = {'reg':[/^%%microblaze/]};\n",
       "  Jupyter.notebook.events.one('kernel_ready.Kernel', function(){\n",
       "      Jupyter.notebook.get_cells().map(function(cell){\n",
       "          if (cell.cell_type == 'code'){ cell.auto_highlight(); } }) ;\n",
       "  });\n",
       "});\n",
       "} catch (e) {};\n"
      ]
     },
     "metadata": {},
     "output_type": "display_data"
    },
    {
     "data": {
      "application/javascript": [
       "\n",
       "try {\n",
       "require(['notebook/js/codecell'], function(codecell) {\n",
       "  codecell.CodeCell.options_default.highlight_modes[\n",
       "      'magic_text/x-csrc'] = {'reg':[/^%%pybind11/]};\n",
       "  Jupyter.notebook.events.one('kernel_ready.Kernel', function(){\n",
       "      Jupyter.notebook.get_cells().map(function(cell){\n",
       "          if (cell.cell_type == 'code'){ cell.auto_highlight(); } }) ;\n",
       "  });\n",
       "});\n",
       "} catch (e) {};\n"
      ]
     },
     "metadata": {},
     "output_type": "display_data"
    }
   ],
   "source": [
    "import pynq\n",
    "import numpy as np\n",
    "from time import sleep\n",
    "u2 = pynq.Device.devices[1]\n",
    "ol = pynq.Overlay(\"krnl_dram_rw.xclbin\", device=u2)\n",
    "krnl = ol.krnl_dram_rw_1\n",
    "krnl_map = krnl.register_map"
   ]
  },
  {
   "cell_type": "code",
   "execution_count": 2,
   "id": "b59885e2",
   "metadata": {},
   "outputs": [],
   "source": [
    "ol?"
   ]
  },
  {
   "cell_type": "code",
   "execution_count": 3,
   "id": "2d36e060",
   "metadata": {},
   "outputs": [
    {
     "name": "stdout",
     "output_type": "stream",
     "text": [
      "RegisterMap {\n",
      "  CTRL = Register(AP_START=0, AP_DONE=0, AP_IDLE=1, AP_READY=0, AUTO_RESTART=0, AP_CONTINUE=0),\n",
      "  wr_en = Register(value=0),\n",
      "  data_i = Register(value=0),\n",
      "  data_o = Register(value=0),\n",
      "  dummy = Register(value=0)\n",
      "}\n"
     ]
    }
   ],
   "source": [
    "print(krnl_map)"
   ]
  },
  {
   "cell_type": "code",
   "execution_count": 4,
   "id": "37482c4f",
   "metadata": {},
   "outputs": [
    {
     "data": {
      "text/plain": [
       "<Signature (wr_en: 'unsigned int', data_i: 'void*', data_o: 'void*', dummy: 'void*')>"
      ]
     },
     "execution_count": 4,
     "metadata": {},
     "output_type": "execute_result"
    }
   ],
   "source": [
    "krnl.signature"
   ]
  },
  {
   "cell_type": "code",
   "execution_count": 5,
   "id": "655c560c",
   "metadata": {},
   "outputs": [],
   "source": [
    "def loop_till_fail():\n",
    "    count = 0\n",
    "    time = 0.01\n",
    "    flag = True\n",
    "    while flag:\n",
    "        out = pynq.allocate(shape=(2048,2048), dtype=np.uint32, target=ol.bank0)\n",
    "        gold = np.random.randint(low=0, high=100, size=(2048,2048), dtype=np.uint32)\n",
    "        out[:] = gold\n",
    "        out.sync_to_device()\n",
    "        sleep(time)\n",
    "        out.sync_from_device()\n",
    "\n",
    "        if (np.array_equal(out, gold)):\n",
    "            del(out)\n",
    "            del(gold)\n",
    "            time += 0.0001\n",
    "            count += 1\n",
    "        else:\n",
    "            del(out)\n",
    "            del(gold)\n",
    "            flag = False\n",
    "            #print(f\"Corrupted on loop {count} in {time} seconds.\")\n",
    "    return time, count"
   ]
  },
  {
   "cell_type": "code",
   "execution_count": 6,
   "id": "d3698b0b",
   "metadata": {
    "scrolled": true
   },
   "outputs": [
    {
     "name": "stdout",
     "output_type": "stream",
     "text": [
      "Avg of 108 loops in 0.022649999999999927\n"
     ]
    }
   ],
   "source": [
    "results = []\n",
    "loops = []\n",
    "for _ in range(20):\n",
    "    time, count = loop_till_fail()\n",
    "    results.append(time)\n",
    "    loops.append(count)\n",
    "\n",
    "avg_time = sum(results) / len(results)\n",
    "avg_loops = sum(loops) / len(loops)\n",
    "print(f\"Avg of {count} loops in {avg_time}\")"
   ]
  },
  {
   "cell_type": "code",
   "execution_count": 7,
   "id": "b5831a41",
   "metadata": {
    "scrolled": true
   },
   "outputs": [
    {
     "name": "stdout",
     "output_type": "stream",
     "text": [
      "[10]: data_i\n",
      "[0]: data_o\n"
     ]
    }
   ],
   "source": [
    "data_o = pynq.allocate(shape=(1,), dtype=np.uint32, target=ol.bank0)\n",
    "data_i = pynq.allocate(shape=(1,), dtype=np.uint32, target=ol.plram)\n",
    "dummy = pynq.allocate(shape=(1,), dtype=np.uint32, target=ol.plram)\n",
    "\n",
    "data_i[0] = 10\n",
    "\n",
    "data_o.sync_to_device()\n",
    "#data_i.sync_to_device()\n",
    "\n",
    "krnl.call(1, data_i, data_o, dummy)\n",
    "\n",
    "#data_i.sync_from_device()\n",
    "data_o.sync_from_device()\n",
    "\n",
    "print(f\"{data_i}: data_i\")\n",
    "print(f\"{data_o}: data_o\")\n",
    "\n",
    "del(data_o)\n",
    "del(data_i)\n",
    "del(dummy)"
   ]
  },
  {
   "cell_type": "code",
   "execution_count": null,
   "id": "280e46fa",
   "metadata": {},
   "outputs": [],
   "source": []
  },
  {
   "cell_type": "code",
   "execution_count": 10,
   "id": "fae467f1",
   "metadata": {},
   "outputs": [],
   "source": [
    "def print_ip_dict(d, indent=0):\n",
    "    for key, value in d.items():\n",
    "        if isinstance(value, dict):\n",
    "            print('  ' * indent + str(key))\n",
    "            print_ip_dict(value, indent+1)\n",
    "        else:\n",
    "            print('  ' * (indent+1) + f\"{key}: {value}\")"
   ]
  },
  {
   "cell_type": "code",
   "execution_count": 11,
   "id": "28cbfe37",
   "metadata": {
    "scrolled": true
   },
   "outputs": [
    {
     "name": "stdout",
     "output_type": "stream",
     "text": [
      "  phys_addr: 25231360\n",
      "  addr_range: 4168\n",
      "  type: xilinx.com:hls:krnl_dram_rw:1.0\n",
      "  hw_control_protocol: ap_ctrl_chain\n",
      "  fullpath: krnl_dram_rw_1\n",
      "registers\n",
      "  CTRL\n",
      "      address_offset: 0\n",
      "      access: read-write\n",
      "      size: 4\n",
      "      description: OpenCL Control Register\n",
      "      type: unsigned int\n",
      "      id: None\n",
      "    fields\n",
      "      AP_START\n",
      "          access: read-write\n",
      "          bit_offset: 0\n",
      "          bit_width: 1\n",
      "          description: Start the accelerator\n",
      "      AP_DONE\n",
      "          access: read-only\n",
      "          bit_offset: 1\n",
      "          bit_width: 1\n",
      "          description: Accelerator has finished - cleared on read\n",
      "      AP_IDLE\n",
      "          access: read-only\n",
      "          bit_offset: 2\n",
      "          bit_width: 1\n",
      "          description: Accelerator is idle\n",
      "      AP_READY\n",
      "          access: read-only\n",
      "          bit_offset: 3\n",
      "          bit_width: 1\n",
      "          description: Accelerator is ready to start next computation\n",
      "      AUTO_RESTART\n",
      "          access: read-write\n",
      "          bit_offset: 7\n",
      "          bit_width: 1\n",
      "          description: Restart the accelerator automatically when finished\n",
      "      AP_CONTINUE\n",
      "          access: read-write\n",
      "          bit_offset: 4\n",
      "          bit_width: 1\n",
      "          description: Invoke next iteration of kernel\n",
      "  wr_en\n",
      "      address_offset: 24\n",
      "      access: read-write;\n",
      "      size: 32\n",
      "      host_size: 1\n",
      "      description: OpenCL Argument Register\n",
      "      type: unsigned int\n",
      "      id: 0\n",
      "  data_i\n",
      "      address_offset: 32\n",
      "      access: read-write;\n",
      "      size: 32\n",
      "      host_size: 8\n",
      "      description: OpenCL Argument Register\n",
      "      type: void*\n",
      "      id: 1\n",
      "  data_o\n",
      "      address_offset: 48\n",
      "      access: read-write;\n",
      "      size: 64\n",
      "      host_size: 8\n",
      "      description: OpenCL Argument Register\n",
      "      type: void*\n",
      "      id: 2\n",
      "      memory: bank0\n",
      "  dummy\n",
      "      address_offset: 60\n",
      "      access: read-write;\n",
      "      size: 64\n",
      "      host_size: 8\n",
      "      description: OpenCL Argument Register\n",
      "      type: void*\n",
      "      id: 3\n",
      "      memory: plram\n",
      "streams\n",
      "  mem_id: None\n",
      "  state: None\n",
      "interrupts\n",
      "gpio\n",
      "  xclbin_uuid: f50c86121b014d31e3c35d188620ad02\n",
      "  cu_name: krnl_dram_rw:krnl_dram_rw_1\n",
      "  cu_index: 0\n",
      "  index: 0\n",
      "  device: <pynq.pl_server.xrt_device.XrtDevice object at 0x7fafd5590700>\n",
      "  driver: <class 'pynq.overlay.DefaultIP'>\n"
     ]
    }
   ],
   "source": [
    "print_ip_dict(ol.ip_dict[\"krnl_dram_rw_1\"])"
   ]
  }
 ],
 "metadata": {
  "kernelspec": {
   "display_name": "Python 3 (ipykernel)",
   "language": "python",
   "name": "python3"
  },
  "language_info": {
   "codemirror_mode": {
    "name": "ipython",
    "version": 3
   },
   "file_extension": ".py",
   "mimetype": "text/x-python",
   "name": "python",
   "nbconvert_exporter": "python",
   "pygments_lexer": "ipython3",
   "version": "3.10.12"
  }
 },
 "nbformat": 4,
 "nbformat_minor": 5
}
